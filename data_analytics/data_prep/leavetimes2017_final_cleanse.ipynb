{
 "cells": [
  {
   "cell_type": "code",
   "execution_count": 9,
   "metadata": {
    "scrolled": false
   },
   "outputs": [],
   "source": [
    "import pandas as pd\n",
    "import os, sys\n",
    "\n",
    "newPath = '/home/student/data/db_historic/rt_leavetimes_2017_I_DB.txt'\n",
    "\n"
   ]
  },
  {
   "cell_type": "code",
   "execution_count": 10,
   "metadata": {
    "scrolled": true
   },
   "outputs": [
    {
     "name": "stdout",
     "output_type": "stream",
     "text": [
      "------------------------\n",
      "CHUNK number:  1\n",
      "\n",
      "Number of rows in this chunk where suppressed column has value 1:  0\n",
      "\n",
      "FINISHED A CHUNK\n",
      "\n",
      "Final total of 'suppressed=1' values:  0\n",
      "\n",
      "CELL FINISHED\n"
     ]
    }
   ],
   "source": [
    "# use chunk size\n",
    "\n",
    "chunk_size = 2000000\n",
    "count=1\n",
    "suppressedIsOneCount=0\n",
    "\n",
    "# load the big file in smaller chunks\n",
    "for leave_chunk in pd.read_csv(newPath, usecols=['dayofservice','tripid','progrnumber','stoppointid', 'plannedtime_arr','plannedtime_dep','actualtime_arr','actualtime_dep','suppressed'], delimiter=';', chunksize=chunk_size):\n",
    "    leave_chunk = leave_chunk[leave_chunk.suppressed != 1]\n",
    "    print(\"------------------------\")\n",
    "    print(\"CHUNK number: \", count)\n",
    "    print()\n",
    "    suppressed_is_1 = leave_chunk['suppressed']==1  \n",
    "    is_suppressed = leave_chunk[suppressed_is_1]\n",
    "    print(\"Number of rows in this chunk where suppressed column has value 1: \", is_suppressed.shape[0])\n",
    "    print()\n",
    "    # change datatype of dayofservice from string to datetime format\n",
    "    leave_chunk['dayofservice'] =  pd.to_datetime(leave_chunk['dayofservice'], dayfirst=True)\n",
    "    leave_chunk.to_csv('leave17.csv', index=False, header=False, mode='a')  \n",
    "    suppressedIsOneCount=suppressedIsOneCount+is_suppressed.shape[0]\n",
    "    count=count+1\n",
    "    print(\"FINISHED A CHUNK\")\n",
    "    #if count==2:\n",
    "      #  break\n",
    "        \n",
    "        \n",
    "\n",
    "print()\n",
    "print(\"Final total of 'suppressed=1' values: \", suppressedIsOneCount)\n",
    "print()\n",
    "print(\"CELL FINISHED\")\n"
   ]
  },
  {
   "cell_type": "markdown",
   "metadata": {},
   "source": [
    "This creates a csv file (leave2017.csv) with 32,763,672 lines, (ie 404,511  'suppressed = 1' rows have been dropped from the original 33,168,183  lines of the txt file)\n",
    "\n",
    "\n",
    "\n"
   ]
  },
  {
   "cell_type": "code",
   "execution_count": null,
   "metadata": {},
   "outputs": [],
   "source": []
  },
  {
   "cell_type": "code",
   "execution_count": null,
   "metadata": {},
   "outputs": [],
   "source": []
  },
  {
   "cell_type": "code",
   "execution_count": null,
   "metadata": {},
   "outputs": [],
   "source": []
  },
  {
   "cell_type": "code",
   "execution_count": null,
   "metadata": {},
   "outputs": [],
   "source": []
  },
  {
   "cell_type": "code",
   "execution_count": null,
   "metadata": {
    "scrolled": true
   },
   "outputs": [],
   "source": []
  },
  {
   "cell_type": "code",
   "execution_count": null,
   "metadata": {},
   "outputs": [],
   "source": []
  },
  {
   "cell_type": "code",
   "execution_count": null,
   "metadata": {},
   "outputs": [],
   "source": [
    "\n"
   ]
  },
  {
   "cell_type": "code",
   "execution_count": null,
   "metadata": {},
   "outputs": [],
   "source": []
  },
  {
   "cell_type": "code",
   "execution_count": null,
   "metadata": {},
   "outputs": [],
   "source": []
  },
  {
   "cell_type": "code",
   "execution_count": null,
   "metadata": {},
   "outputs": [],
   "source": []
  },
  {
   "cell_type": "code",
   "execution_count": null,
   "metadata": {},
   "outputs": [],
   "source": []
  },
  {
   "cell_type": "code",
   "execution_count": null,
   "metadata": {},
   "outputs": [],
   "source": [
    "\n"
   ]
  },
  {
   "cell_type": "code",
   "execution_count": null,
   "metadata": {},
   "outputs": [],
   "source": []
  },
  {
   "cell_type": "code",
   "execution_count": null,
   "metadata": {},
   "outputs": [],
   "source": []
  },
  {
   "cell_type": "code",
   "execution_count": null,
   "metadata": {},
   "outputs": [],
   "source": []
  },
  {
   "cell_type": "code",
   "execution_count": null,
   "metadata": {},
   "outputs": [],
   "source": []
  },
  {
   "cell_type": "code",
   "execution_count": null,
   "metadata": {},
   "outputs": [],
   "source": []
  },
  {
   "cell_type": "code",
   "execution_count": null,
   "metadata": {},
   "outputs": [],
   "source": []
  },
  {
   "cell_type": "markdown",
   "metadata": {},
   "source": []
  },
  {
   "cell_type": "code",
   "execution_count": null,
   "metadata": {},
   "outputs": [],
   "source": [
    "\n",
    "\n",
    "\n"
   ]
  },
  {
   "cell_type": "code",
   "execution_count": null,
   "metadata": {},
   "outputs": [],
   "source": []
  },
  {
   "cell_type": "code",
   "execution_count": null,
   "metadata": {},
   "outputs": [],
   "source": []
  }
 ],
 "metadata": {
  "kernelspec": {
   "display_name": "Python 3",
   "language": "python",
   "name": "python3"
  },
  "language_info": {
   "codemirror_mode": {
    "name": "ipython",
    "version": 3
   },
   "file_extension": ".py",
   "mimetype": "text/x-python",
   "name": "python",
   "nbconvert_exporter": "python",
   "pygments_lexer": "ipython3",
   "version": "3.6.5"
  }
 },
 "nbformat": 4,
 "nbformat_minor": 2
}
