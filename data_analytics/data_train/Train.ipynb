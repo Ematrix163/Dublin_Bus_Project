{
 "cells": [
  {
   "cell_type": "code",
   "execution_count": 1,
   "metadata": {},
   "outputs": [],
   "source": [
    "# import realted module\n",
    "import pandas as pd\n",
    "import numpy as np\n",
    "\n",
    "route46A = pd.read_csv('result_of_46A.csv')"
   ]
  },
  {
   "cell_type": "code",
   "execution_count": 2,
   "metadata": {},
   "outputs": [
    {
     "data": {
      "text/html": [
       "<div>\n",
       "<style scoped>\n",
       "    .dataframe tbody tr th:only-of-type {\n",
       "        vertical-align: middle;\n",
       "    }\n",
       "\n",
       "    .dataframe tbody tr th {\n",
       "        vertical-align: top;\n",
       "    }\n",
       "\n",
       "    .dataframe thead th {\n",
       "        text-align: right;\n",
       "    }\n",
       "</style>\n",
       "<table border=\"1\" class=\"dataframe\">\n",
       "  <thead>\n",
       "    <tr style=\"text-align: right;\">\n",
       "      <th></th>\n",
       "      <th>Unnamed: 0</th>\n",
       "      <th>arrive_time</th>\n",
       "      <th>clouds_all</th>\n",
       "      <th>day</th>\n",
       "      <th>dayofweek</th>\n",
       "      <th>dt</th>\n",
       "      <th>duration</th>\n",
       "      <th>end_point</th>\n",
       "      <th>humidity</th>\n",
       "      <th>month</th>\n",
       "      <th>pressure</th>\n",
       "      <th>start_point</th>\n",
       "      <th>temp</th>\n",
       "      <th>weather_description</th>\n",
       "      <th>wind_deg</th>\n",
       "      <th>wind_speed</th>\n",
       "    </tr>\n",
       "  </thead>\n",
       "  <tbody>\n",
       "    <tr>\n",
       "      <th>0</th>\n",
       "      <td>0</td>\n",
       "      <td>64279</td>\n",
       "      <td>20.0</td>\n",
       "      <td>24</td>\n",
       "      <td>1</td>\n",
       "      <td>1464112279</td>\n",
       "      <td>148.0</td>\n",
       "      <td>808.0</td>\n",
       "      <td>67.0</td>\n",
       "      <td>5</td>\n",
       "      <td>1022.0</td>\n",
       "      <td>807</td>\n",
       "      <td>287.67</td>\n",
       "      <td>few clouds</td>\n",
       "      <td>80.0</td>\n",
       "      <td>6.0</td>\n",
       "    </tr>\n",
       "    <tr>\n",
       "      <th>1</th>\n",
       "      <td>1</td>\n",
       "      <td>64427</td>\n",
       "      <td>20.0</td>\n",
       "      <td>24</td>\n",
       "      <td>1</td>\n",
       "      <td>1464112427</td>\n",
       "      <td>112.0</td>\n",
       "      <td>809.0</td>\n",
       "      <td>67.0</td>\n",
       "      <td>5</td>\n",
       "      <td>1022.0</td>\n",
       "      <td>808</td>\n",
       "      <td>287.67</td>\n",
       "      <td>few clouds</td>\n",
       "      <td>80.0</td>\n",
       "      <td>6.0</td>\n",
       "    </tr>\n",
       "    <tr>\n",
       "      <th>2</th>\n",
       "      <td>2</td>\n",
       "      <td>64539</td>\n",
       "      <td>20.0</td>\n",
       "      <td>24</td>\n",
       "      <td>1</td>\n",
       "      <td>1464112539</td>\n",
       "      <td>126.0</td>\n",
       "      <td>810.0</td>\n",
       "      <td>67.0</td>\n",
       "      <td>5</td>\n",
       "      <td>1022.0</td>\n",
       "      <td>809</td>\n",
       "      <td>287.67</td>\n",
       "      <td>few clouds</td>\n",
       "      <td>80.0</td>\n",
       "      <td>6.0</td>\n",
       "    </tr>\n",
       "    <tr>\n",
       "      <th>3</th>\n",
       "      <td>3</td>\n",
       "      <td>64665</td>\n",
       "      <td>20.0</td>\n",
       "      <td>24</td>\n",
       "      <td>1</td>\n",
       "      <td>1464112665</td>\n",
       "      <td>75.0</td>\n",
       "      <td>811.0</td>\n",
       "      <td>67.0</td>\n",
       "      <td>5</td>\n",
       "      <td>1022.0</td>\n",
       "      <td>810</td>\n",
       "      <td>287.67</td>\n",
       "      <td>few clouds</td>\n",
       "      <td>80.0</td>\n",
       "      <td>6.0</td>\n",
       "    </tr>\n",
       "    <tr>\n",
       "      <th>4</th>\n",
       "      <td>4</td>\n",
       "      <td>64740</td>\n",
       "      <td>20.0</td>\n",
       "      <td>24</td>\n",
       "      <td>1</td>\n",
       "      <td>1464112740</td>\n",
       "      <td>41.0</td>\n",
       "      <td>812.0</td>\n",
       "      <td>67.0</td>\n",
       "      <td>5</td>\n",
       "      <td>1022.0</td>\n",
       "      <td>811</td>\n",
       "      <td>287.67</td>\n",
       "      <td>few clouds</td>\n",
       "      <td>80.0</td>\n",
       "      <td>6.0</td>\n",
       "    </tr>\n",
       "  </tbody>\n",
       "</table>\n",
       "</div>"
      ],
      "text/plain": [
       "   Unnamed: 0  arrive_time  clouds_all  day  dayofweek          dt  duration  \\\n",
       "0           0        64279        20.0   24          1  1464112279     148.0   \n",
       "1           1        64427        20.0   24          1  1464112427     112.0   \n",
       "2           2        64539        20.0   24          1  1464112539     126.0   \n",
       "3           3        64665        20.0   24          1  1464112665      75.0   \n",
       "4           4        64740        20.0   24          1  1464112740      41.0   \n",
       "\n",
       "   end_point  humidity  month  pressure  start_point    temp  \\\n",
       "0      808.0      67.0      5    1022.0          807  287.67   \n",
       "1      809.0      67.0      5    1022.0          808  287.67   \n",
       "2      810.0      67.0      5    1022.0          809  287.67   \n",
       "3      811.0      67.0      5    1022.0          810  287.67   \n",
       "4      812.0      67.0      5    1022.0          811  287.67   \n",
       "\n",
       "  weather_description  wind_deg  wind_speed  \n",
       "0          few clouds      80.0         6.0  \n",
       "1          few clouds      80.0         6.0  \n",
       "2          few clouds      80.0         6.0  \n",
       "3          few clouds      80.0         6.0  \n",
       "4          few clouds      80.0         6.0  "
      ]
     },
     "execution_count": 2,
     "metadata": {},
     "output_type": "execute_result"
    }
   ],
   "source": [
    "route46A.head()"
   ]
  },
  {
   "cell_type": "code",
   "execution_count": 3,
   "metadata": {},
   "outputs": [
    {
     "data": {
      "text/plain": [
       "(871584, 16)"
      ]
     },
     "execution_count": 3,
     "metadata": {},
     "output_type": "execute_result"
    }
   ],
   "source": [
    "route46A.shape"
   ]
  },
  {
   "cell_type": "code",
   "execution_count": 4,
   "metadata": {},
   "outputs": [
    {
     "data": {
      "text/plain": [
       "Unnamed: 0             0\n",
       "arrive_time            0\n",
       "clouds_all             0\n",
       "day                    0\n",
       "dayofweek              0\n",
       "dt                     0\n",
       "duration               0\n",
       "end_point              0\n",
       "humidity               0\n",
       "month                  0\n",
       "pressure               0\n",
       "start_point            0\n",
       "temp                   0\n",
       "weather_description    0\n",
       "wind_deg               0\n",
       "wind_speed             0\n",
       "dtype: int64"
      ]
     },
     "execution_count": 4,
     "metadata": {},
     "output_type": "execute_result"
    }
   ],
   "source": [
    "route46A.isnull().sum()"
   ]
  },
  {
   "cell_type": "code",
   "execution_count": 5,
   "metadata": {},
   "outputs": [],
   "source": [
    "related = [ 'arrive_time','clouds_all','day','dayofweek','end_point','humidity',\n",
    "           'month','pressure','start_point','temp','wind_deg','wind_speed']"
   ]
  },
  {
   "cell_type": "code",
   "execution_count": 7,
   "metadata": {},
   "outputs": [],
   "source": [
    "binary_weather = pd.get_dummies(route46A['weather_description'])\n",
    "df = route46A[related]\n",
    "df = pd.concat([df, binary_weather], axis=1)"
   ]
  },
  {
   "cell_type": "code",
   "execution_count": 8,
   "metadata": {},
   "outputs": [
    {
     "data": {
      "text/html": [
       "<div>\n",
       "<style scoped>\n",
       "    .dataframe tbody tr th:only-of-type {\n",
       "        vertical-align: middle;\n",
       "    }\n",
       "\n",
       "    .dataframe tbody tr th {\n",
       "        vertical-align: top;\n",
       "    }\n",
       "\n",
       "    .dataframe thead th {\n",
       "        text-align: right;\n",
       "    }\n",
       "</style>\n",
       "<table border=\"1\" class=\"dataframe\">\n",
       "  <thead>\n",
       "    <tr style=\"text-align: right;\">\n",
       "      <th></th>\n",
       "      <th>arrive_time</th>\n",
       "      <th>clouds_all</th>\n",
       "      <th>day</th>\n",
       "      <th>dayofweek</th>\n",
       "      <th>end_point</th>\n",
       "      <th>humidity</th>\n",
       "      <th>month</th>\n",
       "      <th>pressure</th>\n",
       "      <th>start_point</th>\n",
       "      <th>temp</th>\n",
       "      <th>...</th>\n",
       "      <th>light shower snow</th>\n",
       "      <th>mist</th>\n",
       "      <th>moderate rain</th>\n",
       "      <th>overcast clouds</th>\n",
       "      <th>proximity shower rain</th>\n",
       "      <th>proximity thunderstorm</th>\n",
       "      <th>scattered clouds</th>\n",
       "      <th>shower rain</th>\n",
       "      <th>sky is clear</th>\n",
       "      <th>thunderstorm with rain</th>\n",
       "    </tr>\n",
       "  </thead>\n",
       "  <tbody>\n",
       "    <tr>\n",
       "      <th>0</th>\n",
       "      <td>64279</td>\n",
       "      <td>20.0</td>\n",
       "      <td>24</td>\n",
       "      <td>1</td>\n",
       "      <td>808.0</td>\n",
       "      <td>67.0</td>\n",
       "      <td>5</td>\n",
       "      <td>1022.0</td>\n",
       "      <td>807</td>\n",
       "      <td>287.67</td>\n",
       "      <td>...</td>\n",
       "      <td>0</td>\n",
       "      <td>0</td>\n",
       "      <td>0</td>\n",
       "      <td>0</td>\n",
       "      <td>0</td>\n",
       "      <td>0</td>\n",
       "      <td>0</td>\n",
       "      <td>0</td>\n",
       "      <td>0</td>\n",
       "      <td>0</td>\n",
       "    </tr>\n",
       "    <tr>\n",
       "      <th>1</th>\n",
       "      <td>64427</td>\n",
       "      <td>20.0</td>\n",
       "      <td>24</td>\n",
       "      <td>1</td>\n",
       "      <td>809.0</td>\n",
       "      <td>67.0</td>\n",
       "      <td>5</td>\n",
       "      <td>1022.0</td>\n",
       "      <td>808</td>\n",
       "      <td>287.67</td>\n",
       "      <td>...</td>\n",
       "      <td>0</td>\n",
       "      <td>0</td>\n",
       "      <td>0</td>\n",
       "      <td>0</td>\n",
       "      <td>0</td>\n",
       "      <td>0</td>\n",
       "      <td>0</td>\n",
       "      <td>0</td>\n",
       "      <td>0</td>\n",
       "      <td>0</td>\n",
       "    </tr>\n",
       "    <tr>\n",
       "      <th>2</th>\n",
       "      <td>64539</td>\n",
       "      <td>20.0</td>\n",
       "      <td>24</td>\n",
       "      <td>1</td>\n",
       "      <td>810.0</td>\n",
       "      <td>67.0</td>\n",
       "      <td>5</td>\n",
       "      <td>1022.0</td>\n",
       "      <td>809</td>\n",
       "      <td>287.67</td>\n",
       "      <td>...</td>\n",
       "      <td>0</td>\n",
       "      <td>0</td>\n",
       "      <td>0</td>\n",
       "      <td>0</td>\n",
       "      <td>0</td>\n",
       "      <td>0</td>\n",
       "      <td>0</td>\n",
       "      <td>0</td>\n",
       "      <td>0</td>\n",
       "      <td>0</td>\n",
       "    </tr>\n",
       "    <tr>\n",
       "      <th>3</th>\n",
       "      <td>64665</td>\n",
       "      <td>20.0</td>\n",
       "      <td>24</td>\n",
       "      <td>1</td>\n",
       "      <td>811.0</td>\n",
       "      <td>67.0</td>\n",
       "      <td>5</td>\n",
       "      <td>1022.0</td>\n",
       "      <td>810</td>\n",
       "      <td>287.67</td>\n",
       "      <td>...</td>\n",
       "      <td>0</td>\n",
       "      <td>0</td>\n",
       "      <td>0</td>\n",
       "      <td>0</td>\n",
       "      <td>0</td>\n",
       "      <td>0</td>\n",
       "      <td>0</td>\n",
       "      <td>0</td>\n",
       "      <td>0</td>\n",
       "      <td>0</td>\n",
       "    </tr>\n",
       "    <tr>\n",
       "      <th>4</th>\n",
       "      <td>64740</td>\n",
       "      <td>20.0</td>\n",
       "      <td>24</td>\n",
       "      <td>1</td>\n",
       "      <td>812.0</td>\n",
       "      <td>67.0</td>\n",
       "      <td>5</td>\n",
       "      <td>1022.0</td>\n",
       "      <td>811</td>\n",
       "      <td>287.67</td>\n",
       "      <td>...</td>\n",
       "      <td>0</td>\n",
       "      <td>0</td>\n",
       "      <td>0</td>\n",
       "      <td>0</td>\n",
       "      <td>0</td>\n",
       "      <td>0</td>\n",
       "      <td>0</td>\n",
       "      <td>0</td>\n",
       "      <td>0</td>\n",
       "      <td>0</td>\n",
       "    </tr>\n",
       "  </tbody>\n",
       "</table>\n",
       "<p>5 rows × 32 columns</p>\n",
       "</div>"
      ],
      "text/plain": [
       "   arrive_time  clouds_all  day  dayofweek  end_point  humidity  month  \\\n",
       "0        64279        20.0   24          1      808.0      67.0      5   \n",
       "1        64427        20.0   24          1      809.0      67.0      5   \n",
       "2        64539        20.0   24          1      810.0      67.0      5   \n",
       "3        64665        20.0   24          1      811.0      67.0      5   \n",
       "4        64740        20.0   24          1      812.0      67.0      5   \n",
       "\n",
       "   pressure  start_point    temp           ...            light shower snow  \\\n",
       "0    1022.0          807  287.67           ...                            0   \n",
       "1    1022.0          808  287.67           ...                            0   \n",
       "2    1022.0          809  287.67           ...                            0   \n",
       "3    1022.0          810  287.67           ...                            0   \n",
       "4    1022.0          811  287.67           ...                            0   \n",
       "\n",
       "   mist  moderate rain  overcast clouds  proximity shower rain  \\\n",
       "0     0              0                0                      0   \n",
       "1     0              0                0                      0   \n",
       "2     0              0                0                      0   \n",
       "3     0              0                0                      0   \n",
       "4     0              0                0                      0   \n",
       "\n",
       "   proximity thunderstorm  scattered clouds  shower rain  sky is clear  \\\n",
       "0                       0                 0            0             0   \n",
       "1                       0                 0            0             0   \n",
       "2                       0                 0            0             0   \n",
       "3                       0                 0            0             0   \n",
       "4                       0                 0            0             0   \n",
       "\n",
       "   thunderstorm with rain  \n",
       "0                       0  \n",
       "1                       0  \n",
       "2                       0  \n",
       "3                       0  \n",
       "4                       0  \n",
       "\n",
       "[5 rows x 32 columns]"
      ]
     },
     "execution_count": 8,
     "metadata": {},
     "output_type": "execute_result"
    }
   ],
   "source": [
    "df.head()"
   ]
  },
  {
   "cell_type": "code",
   "execution_count": 9,
   "metadata": {},
   "outputs": [],
   "source": [
    "# import zscore package\n",
    "from scipy.stats import zscore\n",
    "\n",
    "df = df.apply(zscore)\n",
    "df = pd.concat([df, route46A['duration']], axis=1)\n",
    "df = df.sample(frac=1)\n",
    "df_train = df.head(610108)\n",
    "df_test = df.tail(261476)"
   ]
  },
  {
   "cell_type": "code",
   "execution_count": 10,
   "metadata": {},
   "outputs": [
    {
     "data": {
      "text/plain": [
       "arrive_time                     0\n",
       "clouds_all                      0\n",
       "day                             0\n",
       "dayofweek                       0\n",
       "end_point                       0\n",
       "humidity                        0\n",
       "month                           0\n",
       "pressure                        0\n",
       "start_point                     0\n",
       "temp                            0\n",
       "wind_deg                        0\n",
       "wind_speed                      0\n",
       "Sky is Clear                    0\n",
       "broken clouds                   0\n",
       "few clouds                      0\n",
       "fog                             0\n",
       "heavy intensity rain            0\n",
       "light intensity drizzle         0\n",
       "light intensity drizzle rain    0\n",
       "light intensity shower rain     0\n",
       "light rain                      0\n",
       "light shower sleet              0\n",
       "light shower snow               0\n",
       "mist                            0\n",
       "moderate rain                   0\n",
       "overcast clouds                 0\n",
       "proximity shower rain           0\n",
       "proximity thunderstorm          0\n",
       "scattered clouds                0\n",
       "shower rain                     0\n",
       "sky is clear                    0\n",
       "thunderstorm with rain          0\n",
       "duration                        0\n",
       "dtype: int64"
      ]
     },
     "execution_count": 10,
     "metadata": {},
     "output_type": "execute_result"
    }
   ],
   "source": [
    "df_train.isnull().sum()"
   ]
  },
  {
   "cell_type": "code",
   "execution_count": 28,
   "metadata": {},
   "outputs": [
    {
     "data": {
      "text/plain": [
       "'duration ~ arrive_time + clouds_all + day + dayofweek + end_point + humidity + month + pressure + start_point + temp + wind_deg + wind_speed + Sky is Clear + broken clouds + few clouds + fog + heavy intensity rain + light intensity drizzle + light intensity drizzle rain + light intensity shower rain + light rain + light shower sleet + light shower snow + mist + moderate rain + overcast clouds + proximity shower rain + proximity thunderstorm + scattered clouds + shower rain + sky is clear + thunderstorm with rain'"
      ]
     },
     "execution_count": 28,
     "metadata": {},
     "output_type": "execute_result"
    }
   ],
   "source": [
    "train = 'duration ~ '\n",
    "\n",
    "for i in df_train.columns:\n",
    "    if i != 'duration':\n",
    "        train += i + ' + '\n",
    "train = train[:-3]\n",
    "train "
   ]
  },
  {
   "cell_type": "code",
   "execution_count": 32,
   "metadata": {},
   "outputs": [
    {
     "data": {
      "text/plain": [
       "{'copy_X': True, 'fit_intercept': True, 'n_jobs': 1, 'normalize': False}"
      ]
     },
     "execution_count": 32,
     "metadata": {},
     "output_type": "execute_result"
    }
   ],
   "source": [
    "from sklearn.linear_model import LinearRegression\n",
    "\n",
    "model = LinearRegression()\n",
    "X = df_train.drop('duration', axis = 1)\n",
    "y = df_train['duration']\n",
    "\n",
    "model = model.fit(X, y)\n",
    "model.get_params()"
   ]
  },
  {
   "cell_type": "code",
   "execution_count": 17,
   "metadata": {},
   "outputs": [
    {
     "data": {
      "text/plain": [
       "0.01168377001386589"
      ]
     },
     "execution_count": 17,
     "metadata": {},
     "output_type": "execute_result"
    }
   ],
   "source": [
    "model.score(X, y)"
   ]
  },
  {
   "cell_type": "code",
   "execution_count": 33,
   "metadata": {},
   "outputs": [
    {
     "data": {
      "text/plain": [
       "0.012341896800010521"
      ]
     },
     "execution_count": 33,
     "metadata": {},
     "output_type": "execute_result"
    }
   ],
   "source": [
    "test_x = df_test.drop('duration', axis = 1)\n",
    "test_y = df_test['duration']\n",
    "model.score(test_x, test_y)"
   ]
  },
  {
   "cell_type": "code",
   "execution_count": null,
   "metadata": {},
   "outputs": [],
   "source": [
    "from sklearn.svm import SVR\n",
    "\n",
    "svr = SVR(kernel='rbf', C=1e3, gamma=0.1)\n",
    "svr.fit(X, y)"
   ]
  },
  {
   "cell_type": "code",
   "execution_count": null,
   "metadata": {},
   "outputs": [],
   "source": []
  }
 ],
 "metadata": {
  "kernelspec": {
   "display_name": "Python 3",
   "language": "python",
   "name": "python3"
  },
  "language_info": {
   "codemirror_mode": {
    "name": "ipython",
    "version": 3
   },
   "file_extension": ".py",
   "mimetype": "text/x-python",
   "name": "python",
   "nbconvert_exporter": "python",
   "pygments_lexer": "ipython3",
   "version": "3.6.4"
  }
 },
 "nbformat": 4,
 "nbformat_minor": 2
}
