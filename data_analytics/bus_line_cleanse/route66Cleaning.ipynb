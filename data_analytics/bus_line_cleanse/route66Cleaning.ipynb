{
 "cells": [
  {
   "cell_type": "markdown",
   "metadata": {},
   "source": [
    "## Reading in Bus Data"
   ]
  },
  {
   "cell_type": "code",
   "execution_count": 1,
   "metadata": {},
   "outputs": [],
   "source": [
    "import pandas as pd\n",
    "import os, sys\n",
    "\n",
    "\n",
    "#reading in data\n",
    "file_dir = os.path.dirname(os.path.abspath(\"__file__\"))\n",
    "parent_dir = os.path.dirname(file_dir)\n",
    "newPath = os.path.join(parent_dir, 'bus_lines/bus_66_trips.csv')\n",
    "\n",
    "\n",
    "dftrips = pd.read_csv(newPath,  delimiter=',', index_col=False)\n"
   ]
  },
  {
   "cell_type": "code",
   "execution_count": 2,
   "metadata": {},
   "outputs": [
    {
     "data": {
      "text/html": [
       "<div>\n",
       "<style scoped>\n",
       "    .dataframe tbody tr th:only-of-type {\n",
       "        vertical-align: middle;\n",
       "    }\n",
       "\n",
       "    .dataframe tbody tr th {\n",
       "        vertical-align: top;\n",
       "    }\n",
       "\n",
       "    .dataframe thead th {\n",
       "        text-align: right;\n",
       "    }\n",
       "</style>\n",
       "<table border=\"1\" class=\"dataframe\">\n",
       "  <thead>\n",
       "    <tr style=\"text-align: right;\">\n",
       "      <th></th>\n",
       "      <th>DayOfService</th>\n",
       "      <th>TripID</th>\n",
       "      <th>LineID</th>\n",
       "      <th>RouteID</th>\n",
       "      <th>Direction</th>\n",
       "      <th>PlannedTime_Dep</th>\n",
       "      <th>PlannedTime_Arr</th>\n",
       "      <th>ActualTime_Dep</th>\n",
       "      <th>ActualTime_Arr</th>\n",
       "    </tr>\n",
       "  </thead>\n",
       "  <tbody>\n",
       "    <tr>\n",
       "      <th>11555</th>\n",
       "      <td>2017-06-30</td>\n",
       "      <td>5116922</td>\n",
       "      <td>66</td>\n",
       "      <td>66_11</td>\n",
       "      <td>1</td>\n",
       "      <td>42585</td>\n",
       "      <td>38700</td>\n",
       "      <td>43195.0</td>\n",
       "      <td>38696.0</td>\n",
       "    </tr>\n",
       "    <tr>\n",
       "      <th>11556</th>\n",
       "      <td>2017-06-30</td>\n",
       "      <td>5116923</td>\n",
       "      <td>66</td>\n",
       "      <td>66_13</td>\n",
       "      <td>2</td>\n",
       "      <td>46991</td>\n",
       "      <td>43500</td>\n",
       "      <td>47769.0</td>\n",
       "      <td>43386.0</td>\n",
       "    </tr>\n",
       "    <tr>\n",
       "      <th>11557</th>\n",
       "      <td>2017-06-30</td>\n",
       "      <td>5116930</td>\n",
       "      <td>66</td>\n",
       "      <td>66_11</td>\n",
       "      <td>1</td>\n",
       "      <td>76631</td>\n",
       "      <td>72900</td>\n",
       "      <td>76452.0</td>\n",
       "      <td>72894.0</td>\n",
       "    </tr>\n",
       "    <tr>\n",
       "      <th>11558</th>\n",
       "      <td>2017-06-30</td>\n",
       "      <td>5116931</td>\n",
       "      <td>66</td>\n",
       "      <td>66_13</td>\n",
       "      <td>2</td>\n",
       "      <td>80863</td>\n",
       "      <td>78300</td>\n",
       "      <td>81322.0</td>\n",
       "      <td>78260.0</td>\n",
       "    </tr>\n",
       "    <tr>\n",
       "      <th>11559</th>\n",
       "      <td>2017-06-30</td>\n",
       "      <td>5117541</td>\n",
       "      <td>66</td>\n",
       "      <td>66_13</td>\n",
       "      <td>2</td>\n",
       "      <td>61658</td>\n",
       "      <td>57900</td>\n",
       "      <td>62376.0</td>\n",
       "      <td>57881.0</td>\n",
       "    </tr>\n",
       "  </tbody>\n",
       "</table>\n",
       "</div>"
      ],
      "text/plain": [
       "      DayOfService   TripID  LineID RouteID  Direction  PlannedTime_Dep  \\\n",
       "11555   2017-06-30  5116922      66   66_11          1            42585   \n",
       "11556   2017-06-30  5116923      66   66_13          2            46991   \n",
       "11557   2017-06-30  5116930      66   66_11          1            76631   \n",
       "11558   2017-06-30  5116931      66   66_13          2            80863   \n",
       "11559   2017-06-30  5117541      66   66_13          2            61658   \n",
       "\n",
       "       PlannedTime_Arr  ActualTime_Dep  ActualTime_Arr  \n",
       "11555            38700         43195.0         38696.0  \n",
       "11556            43500         47769.0         43386.0  \n",
       "11557            72900         76452.0         72894.0  \n",
       "11558            78300         81322.0         78260.0  \n",
       "11559            57900         62376.0         57881.0  "
      ]
     },
     "execution_count": 2,
     "metadata": {},
     "output_type": "execute_result"
    }
   ],
   "source": [
    "dftrips.tail(5)"
   ]
  },
  {
   "cell_type": "code",
   "execution_count": 3,
   "metadata": {},
   "outputs": [],
   "source": [
    "#reading in full historic weather data\n",
    "file_dir = os.path.dirname(os.path.abspath(\"__file__\"))\n",
    "parent_dir = os.path.dirname(file_dir)\n",
    "newPath = os.path.join(parent_dir, 'bus_lines/bus_66_lt.csv')\n",
    "\n",
    "\n",
    "dfleavetimes = pd.read_csv(newPath, delimiter=',', index_col=False)"
   ]
  },
  {
   "cell_type": "code",
   "execution_count": 4,
   "metadata": {},
   "outputs": [
    {
     "data": {
      "text/html": [
       "<div>\n",
       "<style scoped>\n",
       "    .dataframe tbody tr th:only-of-type {\n",
       "        vertical-align: middle;\n",
       "    }\n",
       "\n",
       "    .dataframe tbody tr th {\n",
       "        vertical-align: top;\n",
       "    }\n",
       "\n",
       "    .dataframe thead th {\n",
       "        text-align: right;\n",
       "    }\n",
       "</style>\n",
       "<table border=\"1\" class=\"dataframe\">\n",
       "  <thead>\n",
       "    <tr style=\"text-align: right;\">\n",
       "      <th></th>\n",
       "      <th>DayOfService</th>\n",
       "      <th>TripID</th>\n",
       "      <th>ProgrNumber</th>\n",
       "      <th>StopPointID</th>\n",
       "      <th>PlannedTime_Arr</th>\n",
       "      <th>PlannedTime_Dep</th>\n",
       "      <th>ActualTime_Arr</th>\n",
       "      <th>ActualTime_Dep</th>\n",
       "      <th>Duration</th>\n",
       "    </tr>\n",
       "  </thead>\n",
       "  <tbody>\n",
       "    <tr>\n",
       "      <th>0</th>\n",
       "      <td>2017-01-03</td>\n",
       "      <td>4084264</td>\n",
       "      <td>19</td>\n",
       "      <td>2201</td>\n",
       "      <td>65540</td>\n",
       "      <td>65540</td>\n",
       "      <td>64669</td>\n",
       "      <td>64669</td>\n",
       "      <td>64669</td>\n",
       "    </tr>\n",
       "    <tr>\n",
       "      <th>1</th>\n",
       "      <td>2017-01-03</td>\n",
       "      <td>4084264</td>\n",
       "      <td>24</td>\n",
       "      <td>2215</td>\n",
       "      <td>65870</td>\n",
       "      <td>65870</td>\n",
       "      <td>65054</td>\n",
       "      <td>65054</td>\n",
       "      <td>385</td>\n",
       "    </tr>\n",
       "    <tr>\n",
       "      <th>2</th>\n",
       "      <td>2017-01-03</td>\n",
       "      <td>4084264</td>\n",
       "      <td>29</td>\n",
       "      <td>2219</td>\n",
       "      <td>66160</td>\n",
       "      <td>66160</td>\n",
       "      <td>65354</td>\n",
       "      <td>65364</td>\n",
       "      <td>310</td>\n",
       "    </tr>\n",
       "    <tr>\n",
       "      <th>3</th>\n",
       "      <td>2017-01-03</td>\n",
       "      <td>4084264</td>\n",
       "      <td>34</td>\n",
       "      <td>3887</td>\n",
       "      <td>66429</td>\n",
       "      <td>66429</td>\n",
       "      <td>65631</td>\n",
       "      <td>65631</td>\n",
       "      <td>277</td>\n",
       "    </tr>\n",
       "    <tr>\n",
       "      <th>4</th>\n",
       "      <td>2017-01-03</td>\n",
       "      <td>4084264</td>\n",
       "      <td>39</td>\n",
       "      <td>3955</td>\n",
       "      <td>66721</td>\n",
       "      <td>66721</td>\n",
       "      <td>65886</td>\n",
       "      <td>65886</td>\n",
       "      <td>255</td>\n",
       "    </tr>\n",
       "  </tbody>\n",
       "</table>\n",
       "</div>"
      ],
      "text/plain": [
       "  DayOfService   TripID  ProgrNumber  StopPointID  PlannedTime_Arr  \\\n",
       "0   2017-01-03  4084264           19         2201            65540   \n",
       "1   2017-01-03  4084264           24         2215            65870   \n",
       "2   2017-01-03  4084264           29         2219            66160   \n",
       "3   2017-01-03  4084264           34         3887            66429   \n",
       "4   2017-01-03  4084264           39         3955            66721   \n",
       "\n",
       "   PlannedTime_Dep  ActualTime_Arr  ActualTime_Dep  Duration  \n",
       "0            65540           64669           64669     64669  \n",
       "1            65870           65054           65054       385  \n",
       "2            66160           65354           65364       310  \n",
       "3            66429           65631           65631       277  \n",
       "4            66721           65886           65886       255  "
      ]
     },
     "execution_count": 4,
     "metadata": {},
     "output_type": "execute_result"
    }
   ],
   "source": [
    "dfleavetimes.head(5)"
   ]
  },
  {
   "cell_type": "code",
   "execution_count": 5,
   "metadata": {},
   "outputs": [
    {
     "name": "stdout",
     "output_type": "stream",
     "text": [
      "<class 'pandas.core.frame.DataFrame'>\n",
      "RangeIndex: 349291 entries, 0 to 349290\n",
      "Data columns (total 9 columns):\n",
      "DayOfService       349291 non-null object\n",
      "TripID             349291 non-null int64\n",
      "ProgrNumber        349291 non-null int64\n",
      "StopPointID        349291 non-null int64\n",
      "PlannedTime_Arr    349291 non-null int64\n",
      "PlannedTime_Dep    349291 non-null int64\n",
      "ActualTime_Arr     349291 non-null int64\n",
      "ActualTime_Dep     349291 non-null int64\n",
      "Duration           349291 non-null int64\n",
      "dtypes: int64(8), object(1)\n",
      "memory usage: 24.0+ MB\n"
     ]
    }
   ],
   "source": [
    "dfleavetimes.info()"
   ]
  },
  {
   "cell_type": "markdown",
   "metadata": {},
   "source": [
    "### Merging dataframes\n",
    "\n",
    "trips dataframe is joined onto leavetimes dataframe where tripid and dayofservice match. They are merged using an left join. "
   ]
  },
  {
   "cell_type": "code",
   "execution_count": 6,
   "metadata": {},
   "outputs": [],
   "source": [
    "df = pd.merge(dfleavetimes, dftrips, how='left', on=['TripID', 'DayOfService'], suffixes=('_leave', '_trips'))"
   ]
  },
  {
   "cell_type": "code",
   "execution_count": 7,
   "metadata": {},
   "outputs": [
    {
     "name": "stdout",
     "output_type": "stream",
     "text": [
      "Trips shape:\n"
     ]
    },
    {
     "data": {
      "text/plain": [
       "(11560, 9)"
      ]
     },
     "execution_count": 7,
     "metadata": {},
     "output_type": "execute_result"
    }
   ],
   "source": [
    "print(\"Trips shape:\")\n",
    "dftrips.shape"
   ]
  },
  {
   "cell_type": "code",
   "execution_count": 8,
   "metadata": {},
   "outputs": [
    {
     "name": "stdout",
     "output_type": "stream",
     "text": [
      "Leavetimes shape:\n"
     ]
    },
    {
     "data": {
      "text/plain": [
       "(349291, 9)"
      ]
     },
     "execution_count": 8,
     "metadata": {},
     "output_type": "execute_result"
    }
   ],
   "source": [
    "print(\"Leavetimes shape:\")\n",
    "dfleavetimes.shape"
   ]
  },
  {
   "cell_type": "code",
   "execution_count": 9,
   "metadata": {},
   "outputs": [
    {
     "data": {
      "text/plain": [
       "(349291, 16)"
      ]
     },
     "execution_count": 9,
     "metadata": {},
     "output_type": "execute_result"
    }
   ],
   "source": [
    "df.shape"
   ]
  },
  {
   "cell_type": "markdown",
   "metadata": {},
   "source": [
    "## Reading in Weather Data"
   ]
  },
  {
   "cell_type": "code",
   "execution_count": 10,
   "metadata": {},
   "outputs": [],
   "source": [
    "file_dir = os.path.dirname(os.path.abspath(\"__file__\"))\n",
    "parent_dir = os.path.dirname(file_dir)\n",
    "newPath = os.path.join(parent_dir, '/home/student/data/weather/2017weatherClean.csv')\n",
    "\n",
    "\n",
    "dfW17 = pd.read_csv(newPath, delimiter=',')"
   ]
  },
  {
   "cell_type": "code",
   "execution_count": 11,
   "metadata": {},
   "outputs": [],
   "source": [
    "#Only keeping the columns that we want\n",
    "dfW17  = dfW17[['dt','temp','pressure','humidity','wind_speed','weather_description','clouds_all','wind_deg']]"
   ]
  },
  {
   "cell_type": "code",
   "execution_count": 12,
   "metadata": {},
   "outputs": [],
   "source": [
    "#We want to look at only one direction\n",
    "df = df.loc[(df['Direction'] == 1)]"
   ]
  },
  {
   "cell_type": "code",
   "execution_count": 13,
   "metadata": {},
   "outputs": [],
   "source": [
    "#combining DayOfService and TripID into one column \n",
    "df['comb'] = df['DayOfService'].map(str) + df['TripID'].map(str)\n",
    "u = df['comb'].unique()"
   ]
  },
  {
   "cell_type": "code",
   "execution_count": 14,
   "metadata": {},
   "outputs": [
    {
     "data": {
      "text/plain": [
       "3656"
      ]
     },
     "execution_count": 14,
     "metadata": {},
     "output_type": "execute_result"
    }
   ],
   "source": [
    "len(u)"
   ]
  },
  {
   "cell_type": "code",
   "execution_count": 15,
   "metadata": {},
   "outputs": [
    {
     "name": "stderr",
     "output_type": "stream",
     "text": [
      "/home/student/anaconda3/lib/python3.6/site-packages/ipykernel_launcher.py:43: FutureWarning: Sorting because non-concatenation axis is not aligned. A future version\n",
      "of pandas will change to not sort by default.\n",
      "\n",
      "To accept the future behavior, pass 'sort=True'.\n",
      "\n",
      "To retain the current behavior and silence the warning, pass sort=False\n",
      "\n"
     ]
    }
   ],
   "source": [
    "import numpy as np\n",
    "trip_66 = df['TripID'].unique()\n",
    "date_66 = df['DayOfService'].unique()\n",
    "\n",
    "result = pd.DataFrame(columns = ['dt','dayofweek','month','day','arrive_time','start_point','end_point','duration'])\n",
    "\n",
    "\n",
    "# for trip in trip_46A:\n",
    "#     for date in date_46A:\n",
    "for date_trip in u:\n",
    "        day_trip = df.loc[(df['comb'] == date_trip)].sort_values(by=['ProgrNumber'])\n",
    "        try:\n",
    "            day_trip.index = range(len(day_trip))\n",
    "\n",
    "            # Calculate the time between each pair stops\n",
    "            time = day_trip['ActualTime_Arr_leave'].shift(-1) - day_trip['ActualTime_Arr_leave']\n",
    "            time.drop(time.tail(1).index,inplace=True)\n",
    "\n",
    "            # Get the month and the day, month and the day of week\n",
    "            month = pd.to_datetime(day_trip['DayOfService']).dt.month\n",
    "            day = pd.to_datetime(day_trip['DayOfService']).dt.day\n",
    "            dayofweek = pd.to_datetime(day_trip['DayOfService']).dt.dayofweek\n",
    "\n",
    "            # Add datetime and actual_arrive time as current unix time\n",
    "            datetime = pd.DatetimeIndex(day_trip['DayOfService']).astype(np.int64)/1000000000 + day_trip['ActualTime_Arr_leave']\n",
    "            datetime = pd.DataFrame(data={'unixtime':datetime})\n",
    "\n",
    "            # Conver float to int, this is for the following merge operation\n",
    "            datetime['unixtime'] = datetime['unixtime'].astype(np.int64)\n",
    "\n",
    "            # Set End point \n",
    "            end_point = day_trip['StopPointID'].shift(-1)\n",
    "            end_point.drop(end_point.tail(1).index,inplace=True)\n",
    "\n",
    "            # Merge these columns\n",
    "            a = pd.concat([datetime,dayofweek, month, day, day_trip['ActualTime_Arr_leave'], day_trip['StopPointID'], end_point, time], axis = 1)\n",
    "            # Change the name of columns\n",
    "            a.columns = ['dt','dayofweek','month','day','arrive_time','start_point','end_point','duration']\n",
    "            a.drop(a.tail(1).index,inplace=True)\n",
    "            # Merge two tables\n",
    "            r = pd.merge_asof(a, dfW17, on = \"dt\",direction='nearest')\n",
    "\n",
    "            result = pd.concat([r, result])\n",
    "            \n",
    "        \n",
    "        except:\n",
    "            pass\n",
    "        \n",
    "# result"
   ]
  },
  {
   "cell_type": "code",
   "execution_count": 16,
   "metadata": {},
   "outputs": [
    {
     "data": {
      "text/plain": [
       "(180589, 15)"
      ]
     },
     "execution_count": 16,
     "metadata": {},
     "output_type": "execute_result"
    }
   ],
   "source": [
    "result.shape"
   ]
  },
  {
   "cell_type": "code",
   "execution_count": 17,
   "metadata": {},
   "outputs": [
    {
     "data": {
      "text/html": [
       "<div>\n",
       "<style scoped>\n",
       "    .dataframe tbody tr th:only-of-type {\n",
       "        vertical-align: middle;\n",
       "    }\n",
       "\n",
       "    .dataframe tbody tr th {\n",
       "        vertical-align: top;\n",
       "    }\n",
       "\n",
       "    .dataframe thead th {\n",
       "        text-align: right;\n",
       "    }\n",
       "</style>\n",
       "<table border=\"1\" class=\"dataframe\">\n",
       "  <thead>\n",
       "    <tr style=\"text-align: right;\">\n",
       "      <th></th>\n",
       "      <th>arrive_time</th>\n",
       "      <th>clouds_all</th>\n",
       "      <th>day</th>\n",
       "      <th>dayofweek</th>\n",
       "      <th>dt</th>\n",
       "      <th>duration</th>\n",
       "      <th>end_point</th>\n",
       "      <th>humidity</th>\n",
       "      <th>month</th>\n",
       "      <th>pressure</th>\n",
       "      <th>start_point</th>\n",
       "      <th>temp</th>\n",
       "      <th>weather_description</th>\n",
       "      <th>wind_deg</th>\n",
       "      <th>wind_speed</th>\n",
       "    </tr>\n",
       "  </thead>\n",
       "  <tbody>\n",
       "    <tr>\n",
       "      <th>0</th>\n",
       "      <td>72894</td>\n",
       "      <td>75.0</td>\n",
       "      <td>30</td>\n",
       "      <td>4</td>\n",
       "      <td>1498853694</td>\n",
       "      <td>64.0</td>\n",
       "      <td>493.0</td>\n",
       "      <td>76.0</td>\n",
       "      <td>6</td>\n",
       "      <td>1016.0</td>\n",
       "      <td>7391</td>\n",
       "      <td>286.72</td>\n",
       "      <td>broken clouds</td>\n",
       "      <td>320.0</td>\n",
       "      <td>6.0</td>\n",
       "    </tr>\n",
       "    <tr>\n",
       "      <th>1</th>\n",
       "      <td>72958</td>\n",
       "      <td>75.0</td>\n",
       "      <td>30</td>\n",
       "      <td>4</td>\n",
       "      <td>1498853758</td>\n",
       "      <td>55.0</td>\n",
       "      <td>494.0</td>\n",
       "      <td>76.0</td>\n",
       "      <td>6</td>\n",
       "      <td>1016.0</td>\n",
       "      <td>493</td>\n",
       "      <td>286.72</td>\n",
       "      <td>broken clouds</td>\n",
       "      <td>320.0</td>\n",
       "      <td>6.0</td>\n",
       "    </tr>\n",
       "    <tr>\n",
       "      <th>2</th>\n",
       "      <td>73013</td>\n",
       "      <td>75.0</td>\n",
       "      <td>30</td>\n",
       "      <td>4</td>\n",
       "      <td>1498853813</td>\n",
       "      <td>97.0</td>\n",
       "      <td>495.0</td>\n",
       "      <td>76.0</td>\n",
       "      <td>6</td>\n",
       "      <td>1016.0</td>\n",
       "      <td>494</td>\n",
       "      <td>286.72</td>\n",
       "      <td>broken clouds</td>\n",
       "      <td>320.0</td>\n",
       "      <td>6.0</td>\n",
       "    </tr>\n",
       "    <tr>\n",
       "      <th>3</th>\n",
       "      <td>73110</td>\n",
       "      <td>75.0</td>\n",
       "      <td>30</td>\n",
       "      <td>4</td>\n",
       "      <td>1498853910</td>\n",
       "      <td>124.0</td>\n",
       "      <td>400.0</td>\n",
       "      <td>76.0</td>\n",
       "      <td>6</td>\n",
       "      <td>1016.0</td>\n",
       "      <td>495</td>\n",
       "      <td>286.72</td>\n",
       "      <td>broken clouds</td>\n",
       "      <td>320.0</td>\n",
       "      <td>6.0</td>\n",
       "    </tr>\n",
       "    <tr>\n",
       "      <th>4</th>\n",
       "      <td>73234</td>\n",
       "      <td>75.0</td>\n",
       "      <td>30</td>\n",
       "      <td>4</td>\n",
       "      <td>1498854034</td>\n",
       "      <td>26.0</td>\n",
       "      <td>346.0</td>\n",
       "      <td>76.0</td>\n",
       "      <td>6</td>\n",
       "      <td>1016.0</td>\n",
       "      <td>400</td>\n",
       "      <td>286.72</td>\n",
       "      <td>broken clouds</td>\n",
       "      <td>320.0</td>\n",
       "      <td>6.0</td>\n",
       "    </tr>\n",
       "    <tr>\n",
       "      <th>5</th>\n",
       "      <td>73260</td>\n",
       "      <td>75.0</td>\n",
       "      <td>30</td>\n",
       "      <td>4</td>\n",
       "      <td>1498854060</td>\n",
       "      <td>210.0</td>\n",
       "      <td>317.0</td>\n",
       "      <td>76.0</td>\n",
       "      <td>6</td>\n",
       "      <td>1016.0</td>\n",
       "      <td>346</td>\n",
       "      <td>286.72</td>\n",
       "      <td>broken clouds</td>\n",
       "      <td>320.0</td>\n",
       "      <td>6.0</td>\n",
       "    </tr>\n",
       "    <tr>\n",
       "      <th>6</th>\n",
       "      <td>73470</td>\n",
       "      <td>75.0</td>\n",
       "      <td>30</td>\n",
       "      <td>4</td>\n",
       "      <td>1498854270</td>\n",
       "      <td>123.0</td>\n",
       "      <td>312.0</td>\n",
       "      <td>76.0</td>\n",
       "      <td>6</td>\n",
       "      <td>1016.0</td>\n",
       "      <td>317</td>\n",
       "      <td>286.72</td>\n",
       "      <td>broken clouds</td>\n",
       "      <td>320.0</td>\n",
       "      <td>6.0</td>\n",
       "    </tr>\n",
       "    <tr>\n",
       "      <th>7</th>\n",
       "      <td>73593</td>\n",
       "      <td>75.0</td>\n",
       "      <td>30</td>\n",
       "      <td>4</td>\n",
       "      <td>1498854393</td>\n",
       "      <td>81.0</td>\n",
       "      <td>1444.0</td>\n",
       "      <td>76.0</td>\n",
       "      <td>6</td>\n",
       "      <td>1016.0</td>\n",
       "      <td>312</td>\n",
       "      <td>286.72</td>\n",
       "      <td>broken clouds</td>\n",
       "      <td>320.0</td>\n",
       "      <td>6.0</td>\n",
       "    </tr>\n",
       "    <tr>\n",
       "      <th>8</th>\n",
       "      <td>73674</td>\n",
       "      <td>75.0</td>\n",
       "      <td>30</td>\n",
       "      <td>4</td>\n",
       "      <td>1498854474</td>\n",
       "      <td>99.0</td>\n",
       "      <td>1445.0</td>\n",
       "      <td>76.0</td>\n",
       "      <td>6</td>\n",
       "      <td>1016.0</td>\n",
       "      <td>1444</td>\n",
       "      <td>286.72</td>\n",
       "      <td>broken clouds</td>\n",
       "      <td>320.0</td>\n",
       "      <td>6.0</td>\n",
       "    </tr>\n",
       "    <tr>\n",
       "      <th>9</th>\n",
       "      <td>73773</td>\n",
       "      <td>75.0</td>\n",
       "      <td>30</td>\n",
       "      <td>4</td>\n",
       "      <td>1498854573</td>\n",
       "      <td>183.0</td>\n",
       "      <td>7078.0</td>\n",
       "      <td>76.0</td>\n",
       "      <td>6</td>\n",
       "      <td>1016.0</td>\n",
       "      <td>1445</td>\n",
       "      <td>286.72</td>\n",
       "      <td>broken clouds</td>\n",
       "      <td>320.0</td>\n",
       "      <td>6.0</td>\n",
       "    </tr>\n",
       "  </tbody>\n",
       "</table>\n",
       "</div>"
      ],
      "text/plain": [
       "  arrive_time  clouds_all day dayofweek          dt  duration  end_point  \\\n",
       "0       72894        75.0  30         4  1498853694      64.0      493.0   \n",
       "1       72958        75.0  30         4  1498853758      55.0      494.0   \n",
       "2       73013        75.0  30         4  1498853813      97.0      495.0   \n",
       "3       73110        75.0  30         4  1498853910     124.0      400.0   \n",
       "4       73234        75.0  30         4  1498854034      26.0      346.0   \n",
       "5       73260        75.0  30         4  1498854060     210.0      317.0   \n",
       "6       73470        75.0  30         4  1498854270     123.0      312.0   \n",
       "7       73593        75.0  30         4  1498854393      81.0     1444.0   \n",
       "8       73674        75.0  30         4  1498854474      99.0     1445.0   \n",
       "9       73773        75.0  30         4  1498854573     183.0     7078.0   \n",
       "\n",
       "   humidity month  pressure start_point    temp weather_description  wind_deg  \\\n",
       "0      76.0     6    1016.0        7391  286.72       broken clouds     320.0   \n",
       "1      76.0     6    1016.0         493  286.72       broken clouds     320.0   \n",
       "2      76.0     6    1016.0         494  286.72       broken clouds     320.0   \n",
       "3      76.0     6    1016.0         495  286.72       broken clouds     320.0   \n",
       "4      76.0     6    1016.0         400  286.72       broken clouds     320.0   \n",
       "5      76.0     6    1016.0         346  286.72       broken clouds     320.0   \n",
       "6      76.0     6    1016.0         317  286.72       broken clouds     320.0   \n",
       "7      76.0     6    1016.0         312  286.72       broken clouds     320.0   \n",
       "8      76.0     6    1016.0        1444  286.72       broken clouds     320.0   \n",
       "9      76.0     6    1016.0        1445  286.72       broken clouds     320.0   \n",
       "\n",
       "   wind_speed  \n",
       "0         6.0  \n",
       "1         6.0  \n",
       "2         6.0  \n",
       "3         6.0  \n",
       "4         6.0  \n",
       "5         6.0  \n",
       "6         6.0  \n",
       "7         6.0  \n",
       "8         6.0  \n",
       "9         6.0  "
      ]
     },
     "execution_count": 17,
     "metadata": {},
     "output_type": "execute_result"
    }
   ],
   "source": [
    "result.head(10)"
   ]
  },
  {
   "cell_type": "code",
   "execution_count": 18,
   "metadata": {},
   "outputs": [],
   "source": [
    "df.to_csv('result_of_66-dir1.csv')"
   ]
  },
  {
   "cell_type": "code",
   "execution_count": 19,
   "metadata": {},
   "outputs": [],
   "source": [
    "#converting weather description into binary to use in regression model.\n",
    "features = [ 'arrive_time','clouds_all','day','dayofweek','end_point','humidity',\n",
    "           'month','pressure','start_point','temp','wind_deg','wind_speed']\n",
    "binary_weather = pd.get_dummies(result['weather_description'])\n",
    "df = result[features]\n",
    "df = pd.concat([result, binary_weather], axis=1)\n"
   ]
  },
  {
   "cell_type": "code",
   "execution_count": 20,
   "metadata": {},
   "outputs": [],
   "source": [
    "df.to_csv('result_of_66-dir1Model.csv')"
   ]
  },
  {
   "cell_type": "code",
   "execution_count": 21,
   "metadata": {},
   "outputs": [],
   "source": [
    "#getting seconds to hh:mm\n",
    "#df['arrive_time'] = pd.to_datetime(df['arrive_time'], unit='m')"
   ]
  },
  {
   "cell_type": "code",
   "execution_count": 22,
   "metadata": {},
   "outputs": [],
   "source": [
    "#removing date\n",
    "#df['arrive_time'] = pd.Series([val.time() for val in df['arrive_time']])"
   ]
  },
  {
   "cell_type": "code",
   "execution_count": null,
   "metadata": {},
   "outputs": [],
   "source": []
  }
 ],
 "metadata": {
  "kernelspec": {
   "display_name": "Python 3",
   "language": "python",
   "name": "python3"
  },
  "language_info": {
   "codemirror_mode": {
    "name": "ipython",
    "version": 3
   },
   "file_extension": ".py",
   "mimetype": "text/x-python",
   "name": "python",
   "nbconvert_exporter": "python",
   "pygments_lexer": "ipython3",
   "version": "3.6.5"
  }
 },
 "nbformat": 4,
 "nbformat_minor": 2
}
